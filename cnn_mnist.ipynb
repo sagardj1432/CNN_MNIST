{
 "cells": [
  {
   "cell_type": "markdown",
   "metadata": {},
   "source": [
    "# cnn on MNIST data set"
   ]
  },
  {
   "cell_type": "code",
   "execution_count": 0,
   "metadata": {
    "colab": {},
    "colab_type": "code",
    "id": "Mz0VCps0lRXG"
   },
   "outputs": [],
   "source": [
    "# Importing few libraries\n",
    "\n",
    "import numpy as np\n",
    "import pandas as pd\n",
    "import matplotlib.pyplot as plt\n",
    "%matplotlib inline\n",
    "import seaborn as sns\n",
    "import warnings\n",
    "warnings.filterwarnings('ignore')\n",
    "import time"
   ]
  },
  {
   "cell_type": "code",
   "execution_count": 2,
   "metadata": {
    "colab": {
     "base_uri": "https://localhost:8080/",
     "height": 34
    },
    "colab_type": "code",
    "id": "VD8lzPprl1-v",
    "outputId": "e901272e-a476-46c0-b764-ef63e12013ed"
   },
   "outputs": [
    {
     "name": "stderr",
     "output_type": "stream",
     "text": [
      "Using TensorFlow backend.\n"
     ]
    }
   ],
   "source": [
    "# if you keras is not using tensorflow as backend set \"KERAS_BACKEND=tensorflow\" use this command\n",
    "# Keras libraries\n",
    "\n",
    "import keras\n",
    "from keras import backend as K\n",
    "from keras.utils import np_utils \n",
    "from keras.datasets import mnist \n",
    "from keras.models import Sequential\n",
    "from keras.initializers import RandomNormal\n",
    "from keras.layers.normalization import BatchNormalization\n",
    "from keras.layers import Dense, Dropout, Flatten, Conv2D, MaxPooling2D, Activation"
   ]
  },
  {
   "cell_type": "code",
   "execution_count": 3,
   "metadata": {
    "colab": {
     "base_uri": "https://localhost:8080/",
     "height": 1000
    },
    "colab_type": "code",
    "id": "y3BSPoVRl4wH",
    "outputId": "9928b281-4173-4d76-b08c-e491500407f6"
   },
   "outputs": [
    {
     "name": "stdout",
     "output_type": "stream",
     "text": [
      "Downloading data from https://s3.amazonaws.com/img-datasets/mnist.npz\n",
      "11493376/11490434 [==============================] - 0s 0us/step\n",
      "MNIST dataset/n\n"
     ]
    },
    {
     "data": {
      "text/plain": [
       "((array([[[0, 0, 0, ..., 0, 0, 0],\n",
       "          [0, 0, 0, ..., 0, 0, 0],\n",
       "          [0, 0, 0, ..., 0, 0, 0],\n",
       "          ...,\n",
       "          [0, 0, 0, ..., 0, 0, 0],\n",
       "          [0, 0, 0, ..., 0, 0, 0],\n",
       "          [0, 0, 0, ..., 0, 0, 0]],\n",
       "  \n",
       "         [[0, 0, 0, ..., 0, 0, 0],\n",
       "          [0, 0, 0, ..., 0, 0, 0],\n",
       "          [0, 0, 0, ..., 0, 0, 0],\n",
       "          ...,\n",
       "          [0, 0, 0, ..., 0, 0, 0],\n",
       "          [0, 0, 0, ..., 0, 0, 0],\n",
       "          [0, 0, 0, ..., 0, 0, 0]],\n",
       "  \n",
       "         [[0, 0, 0, ..., 0, 0, 0],\n",
       "          [0, 0, 0, ..., 0, 0, 0],\n",
       "          [0, 0, 0, ..., 0, 0, 0],\n",
       "          ...,\n",
       "          [0, 0, 0, ..., 0, 0, 0],\n",
       "          [0, 0, 0, ..., 0, 0, 0],\n",
       "          [0, 0, 0, ..., 0, 0, 0]],\n",
       "  \n",
       "         ...,\n",
       "  \n",
       "         [[0, 0, 0, ..., 0, 0, 0],\n",
       "          [0, 0, 0, ..., 0, 0, 0],\n",
       "          [0, 0, 0, ..., 0, 0, 0],\n",
       "          ...,\n",
       "          [0, 0, 0, ..., 0, 0, 0],\n",
       "          [0, 0, 0, ..., 0, 0, 0],\n",
       "          [0, 0, 0, ..., 0, 0, 0]],\n",
       "  \n",
       "         [[0, 0, 0, ..., 0, 0, 0],\n",
       "          [0, 0, 0, ..., 0, 0, 0],\n",
       "          [0, 0, 0, ..., 0, 0, 0],\n",
       "          ...,\n",
       "          [0, 0, 0, ..., 0, 0, 0],\n",
       "          [0, 0, 0, ..., 0, 0, 0],\n",
       "          [0, 0, 0, ..., 0, 0, 0]],\n",
       "  \n",
       "         [[0, 0, 0, ..., 0, 0, 0],\n",
       "          [0, 0, 0, ..., 0, 0, 0],\n",
       "          [0, 0, 0, ..., 0, 0, 0],\n",
       "          ...,\n",
       "          [0, 0, 0, ..., 0, 0, 0],\n",
       "          [0, 0, 0, ..., 0, 0, 0],\n",
       "          [0, 0, 0, ..., 0, 0, 0]]], dtype=uint8),\n",
       "  array([5, 0, 4, ..., 5, 6, 8], dtype=uint8)),\n",
       " (array([[[0, 0, 0, ..., 0, 0, 0],\n",
       "          [0, 0, 0, ..., 0, 0, 0],\n",
       "          [0, 0, 0, ..., 0, 0, 0],\n",
       "          ...,\n",
       "          [0, 0, 0, ..., 0, 0, 0],\n",
       "          [0, 0, 0, ..., 0, 0, 0],\n",
       "          [0, 0, 0, ..., 0, 0, 0]],\n",
       "  \n",
       "         [[0, 0, 0, ..., 0, 0, 0],\n",
       "          [0, 0, 0, ..., 0, 0, 0],\n",
       "          [0, 0, 0, ..., 0, 0, 0],\n",
       "          ...,\n",
       "          [0, 0, 0, ..., 0, 0, 0],\n",
       "          [0, 0, 0, ..., 0, 0, 0],\n",
       "          [0, 0, 0, ..., 0, 0, 0]],\n",
       "  \n",
       "         [[0, 0, 0, ..., 0, 0, 0],\n",
       "          [0, 0, 0, ..., 0, 0, 0],\n",
       "          [0, 0, 0, ..., 0, 0, 0],\n",
       "          ...,\n",
       "          [0, 0, 0, ..., 0, 0, 0],\n",
       "          [0, 0, 0, ..., 0, 0, 0],\n",
       "          [0, 0, 0, ..., 0, 0, 0]],\n",
       "  \n",
       "         ...,\n",
       "  \n",
       "         [[0, 0, 0, ..., 0, 0, 0],\n",
       "          [0, 0, 0, ..., 0, 0, 0],\n",
       "          [0, 0, 0, ..., 0, 0, 0],\n",
       "          ...,\n",
       "          [0, 0, 0, ..., 0, 0, 0],\n",
       "          [0, 0, 0, ..., 0, 0, 0],\n",
       "          [0, 0, 0, ..., 0, 0, 0]],\n",
       "  \n",
       "         [[0, 0, 0, ..., 0, 0, 0],\n",
       "          [0, 0, 0, ..., 0, 0, 0],\n",
       "          [0, 0, 0, ..., 0, 0, 0],\n",
       "          ...,\n",
       "          [0, 0, 0, ..., 0, 0, 0],\n",
       "          [0, 0, 0, ..., 0, 0, 0],\n",
       "          [0, 0, 0, ..., 0, 0, 0]],\n",
       "  \n",
       "         [[0, 0, 0, ..., 0, 0, 0],\n",
       "          [0, 0, 0, ..., 0, 0, 0],\n",
       "          [0, 0, 0, ..., 0, 0, 0],\n",
       "          ...,\n",
       "          [0, 0, 0, ..., 0, 0, 0],\n",
       "          [0, 0, 0, ..., 0, 0, 0],\n",
       "          [0, 0, 0, ..., 0, 0, 0]]], dtype=uint8),\n",
       "  array([7, 2, 1, ..., 4, 5, 6], dtype=uint8)))"
      ]
     },
     "execution_count": 3,
     "metadata": {
      "tags": []
     },
     "output_type": "execute_result"
    }
   ],
   "source": [
    "# Loading MNIST dataset\n",
    "mn = mnist.load_data()\n",
    "\n",
    "print(\"MNIST dataset/n\")\n",
    "mn"
   ]
  },
  {
   "cell_type": "code",
   "execution_count": 0,
   "metadata": {
    "colab": {},
    "colab_type": "code",
    "id": "Sdw3BWcel70_"
   },
   "outputs": [],
   "source": [
    "# Splitting MNIST dataset into train and test\n",
    "\n",
    "(x_train, y_train), (x_test, y_test) = mnist.load_data()"
   ]
  },
  {
   "cell_type": "code",
   "execution_count": 5,
   "metadata": {
    "colab": {
     "base_uri": "https://localhost:8080/",
     "height": 50
    },
    "colab_type": "code",
    "id": "5incaiMQmAtW",
    "outputId": "7eec2a10-9343-4ea4-d42c-354c2a8b1aec"
   },
   "outputs": [
    {
     "name": "stdout",
     "output_type": "stream",
     "text": [
      "(60000, 28, 28)\n",
      "(60000,)\n"
     ]
    }
   ],
   "source": [
    "print(x_train.shape)\n",
    "print(y_train.shape)\n"
   ]
  },
  {
   "cell_type": "code",
   "execution_count": 6,
   "metadata": {
    "colab": {
     "base_uri": "https://localhost:8080/",
     "height": 50
    },
    "colab_type": "code",
    "id": "w8WZxiDnmIvW",
    "outputId": "0718f81d-8170-42fb-e19d-21e979c1c039"
   },
   "outputs": [
    {
     "name": "stdout",
     "output_type": "stream",
     "text": [
      "(10000, 28, 28)\n",
      "(10000,)\n"
     ]
    }
   ],
   "source": [
    "print(x_test.shape)\n",
    "print(y_test.shape)\n",
    "\n"
   ]
  },
  {
   "cell_type": "code",
   "execution_count": 7,
   "metadata": {
    "colab": {
     "base_uri": "https://localhost:8080/",
     "height": 50
    },
    "colab_type": "code",
    "id": "iCzWcBJomIyO",
    "outputId": "907c3a0b-e7f4-40fd-bf68-4ca361786dac"
   },
   "outputs": [
    {
     "name": "stdout",
     "output_type": "stream",
     "text": [
      "60000\n",
      "10000\n"
     ]
    }
   ],
   "source": [
    "print(x_train.shape[0])\n",
    "print(x_test.shape[0])\n",
    "\n"
   ]
  },
  {
   "cell_type": "code",
   "execution_count": 8,
   "metadata": {
    "colab": {
     "base_uri": "https://localhost:8080/",
     "height": 50
    },
    "colab_type": "code",
    "id": "GMG7Ecm-mSsb",
    "outputId": "c6db11aa-a3fc-4f75-902a-289658f33333"
   },
   "outputs": [
    {
     "name": "stdout",
     "output_type": "stream",
     "text": [
      "(28, 28)\n",
      "(28, 28)\n"
     ]
    }
   ],
   "source": [
    "print((x_train.shape[1], x_train.shape[2]))\n",
    "print((x_test.shape[1], x_test.shape[2]))"
   ]
  },
  {
   "cell_type": "code",
   "execution_count": 0,
   "metadata": {
    "colab": {},
    "colab_type": "code",
    "id": "sin6Kp8PmwnU"
   },
   "outputs": [],
   "source": [
    "# input image dimensions\n",
    "img_rows, img_cols = 28, 28\n",
    "\n",
    "if K.image_data_format() == 'channels_first':\n",
    "    x_train = x_train.reshape(x_train.shape[0], 1, img_rows, img_cols)\n",
    "    x_test = x_test.reshape(x_test.shape[0], 1, img_rows, img_cols)\n",
    "    input_shape = (1, img_rows, img_cols)\n",
    "else:\n",
    "    x_train = x_train.reshape(x_train.shape[0], img_rows, img_cols, 1)\n",
    "    x_test = x_test.reshape(x_test.shape[0], img_rows, img_cols, 1)\n",
    "    input_shape = (img_rows, img_cols, 1)"
   ]
  },
  {
   "cell_type": "code",
   "execution_count": 10,
   "metadata": {
    "colab": {
     "base_uri": "https://localhost:8080/",
     "height": 134
    },
    "colab_type": "code",
    "id": "19_7RJxcm099",
    "outputId": "71b9ee6c-97ae-4d77-a422-ae522b4ef382"
   },
   "outputs": [
    {
     "name": "stdout",
     "output_type": "stream",
     "text": [
      "x_train shape: (60000, 28, 28, 1)\n",
      "x_test shape: (10000, 28, 28, 1) \n",
      "\n",
      "****************************** \n",
      "\n",
      "60000 train samples\n",
      "10000 test samples\n"
     ]
    }
   ],
   "source": [
    "x_train = x_train.astype('float32')\n",
    "x_test = x_test.astype('float32')\n",
    "\n",
    "x_train /= 255\n",
    "x_test /= 255\n",
    "\n",
    "print('x_train shape:', x_train.shape)\n",
    "print('x_test shape:', x_test.shape, '\\n')\n",
    "\n",
    "print('*'*30, '\\n')\n",
    "\n",
    "print(x_train.shape[0], 'train samples')\n",
    "print(x_test.shape[0], 'test samples')"
   ]
  },
  {
   "cell_type": "code",
   "execution_count": 0,
   "metadata": {
    "colab": {},
    "colab_type": "code",
    "id": "EFHKqAIbm3Vv"
   },
   "outputs": [],
   "source": [
    "# convert class vectors to binary class matrices\n",
    "\n",
    "num_classes = 10\n",
    "\n",
    "y_train = keras.utils.to_categorical(y_train, num_classes)\n",
    "y_test = keras.utils.to_categorical(y_test, num_classes)"
   ]
  },
  {
   "cell_type": "code",
   "execution_count": 0,
   "metadata": {
    "colab": {},
    "colab_type": "code",
    "id": "wdEwfzsmm6Tk"
   },
   "outputs": [],
   "source": [
    "# https://gist.github.com/greydanus/f6eee59eaf1d90fcb3b534a25362cea4\n",
    "# https://stackoverflow.com/a/14434334\n",
    "# this function is used to update the plots for each epoch and error\n",
    "\n",
    "def plt_la(x, vy, ty, ax, t, colors=['b']):\n",
    "  \n",
    "  if t == 'loss':\n",
    "    ax.plot(x, vy, 'b', label=\"Validation Loss\")\n",
    "    ax.plot(x, ty, 'r', label=\"Train Loss\")\n",
    "    plt.title(\"Epoch vs Loss\")\n",
    "    plt.legend()\n",
    "    plt.grid()\n",
    "  \n",
    "  if t == 'acc':\n",
    "    ax.plot(x, vy, 'b', label=\"Validation Accuracy\")\n",
    "    ax.plot(x, ty, 'r', label=\"Train Accuracy\")\n",
    "    plt.title(\"Epoch vs Accuracy\")\n",
    "    plt.legend()\n",
    "    plt.grid()"
   ]
  },
  {
   "cell_type": "code",
   "execution_count": 0,
   "metadata": {
    "colab": {},
    "colab_type": "code",
    "id": "6wzxd1N6m9gn"
   },
   "outputs": [],
   "source": [
    "# Defining a function 'plotting' to visualize epoch vs loss\n",
    "\n",
    "def plotting(history, t):\n",
    "\n",
    "  fig,ax = plt.subplots(1,1)\n",
    "  ax.set_xlabel('epoch') ; ax.set_ylabel('Categorical Crossentropy')\n",
    "\n",
    "  # list of epoch numbers\n",
    "  x = list(range(1,epochs+1))\n",
    "\n",
    "  # print(history.history.keys())\n",
    "  # dict_keys(['val_loss', 'val_acc', 'loss', 'acc'])\n",
    "  # history = model_drop.fit(X_train, Y_train, batch_size=batch_size, epochs=nb_epoch, verbose=1, validation_data=(X_test, Y_test))\n",
    "\n",
    "  # we will get val_loss and val_acc only when you pass the paramter validation_data\n",
    "  # val_loss : validation loss\n",
    "  # val_acc : validation accuracy\n",
    "\n",
    "  # loss : training loss\n",
    "  # acc : train accuracy\n",
    "  # for each key in histrory.histrory we will have a list of length equal to number of epochs\n",
    "  \n",
    "  if t == 'loss':\n",
    "    vy = history.history['val_loss']\n",
    "    ty = history.history['loss']\n",
    "  \n",
    "    plt_la(x, vy, ty, ax, t)\n",
    "    \n",
    "  if t == 'acc':\n",
    "    vy = history.history['val_acc']\n",
    "    ty = history.history['acc']\n",
    "  \n",
    "    plt_la(x, vy, ty, ax, t)\n",
    "  \n",
    "  return vy, ty"
   ]
  },
  {
   "cell_type": "code",
   "execution_count": 0,
   "metadata": {
    "colab": {
     "base_uri": "https://localhost:8080/",
     "height": 692
    },
    "colab_type": "code",
    "id": "XoG6XhnjnAvc",
    "outputId": "0e341506-1c3c-444c-967b-53ea06d5024d"
   },
   "outputs": [
    {
     "name": "stderr",
     "output_type": "stream",
     "text": [
      "WARNING: Logging before flag parsing goes to stderr.\n",
      "W0716 16:28:44.596062 139946237990784 deprecation_wrapper.py:119] From /usr/local/lib/python3.6/dist-packages/keras/backend/tensorflow_backend.py:74: The name tf.get_default_graph is deprecated. Please use tf.compat.v1.get_default_graph instead.\n",
      "\n",
      "W0716 16:28:44.611623 139946237990784 deprecation_wrapper.py:119] From /usr/local/lib/python3.6/dist-packages/keras/backend/tensorflow_backend.py:517: The name tf.placeholder is deprecated. Please use tf.compat.v1.placeholder instead.\n",
      "\n",
      "W0716 16:28:44.615119 139946237990784 deprecation_wrapper.py:119] From /usr/local/lib/python3.6/dist-packages/keras/backend/tensorflow_backend.py:4138: The name tf.random_uniform is deprecated. Please use tf.random.uniform instead.\n",
      "\n",
      "W0716 16:28:44.666635 139946237990784 deprecation_wrapper.py:119] From /usr/local/lib/python3.6/dist-packages/keras/backend/tensorflow_backend.py:3976: The name tf.nn.max_pool is deprecated. Please use tf.nn.max_pool2d instead.\n",
      "\n",
      "W0716 16:28:44.742021 139946237990784 deprecation_wrapper.py:119] From /usr/local/lib/python3.6/dist-packages/keras/optimizers.py:790: The name tf.train.Optimizer is deprecated. Please use tf.compat.v1.train.Optimizer instead.\n",
      "\n",
      "W0716 16:28:44.770682 139946237990784 deprecation_wrapper.py:119] From /usr/local/lib/python3.6/dist-packages/keras/backend/tensorflow_backend.py:3295: The name tf.log is deprecated. Please use tf.math.log instead.\n",
      "\n",
      "W0716 16:28:44.873654 139946237990784 deprecation.py:323] From /usr/local/lib/python3.6/dist-packages/tensorflow/python/ops/math_grad.py:1250: add_dispatch_support.<locals>.wrapper (from tensorflow.python.ops.array_ops) is deprecated and will be removed in a future version.\n",
      "Instructions for updating:\n",
      "Use tf.where in 2.0, which has the same broadcast rule as np.where\n",
      "W0716 16:28:44.956920 139946237990784 deprecation_wrapper.py:119] From /usr/local/lib/python3.6/dist-packages/keras/backend/tensorflow_backend.py:986: The name tf.assign_add is deprecated. Please use tf.compat.v1.assign_add instead.\n",
      "\n"
     ]
    },
    {
     "name": "stdout",
     "output_type": "stream",
     "text": [
      "Train on 60000 samples, validate on 10000 samples\n",
      "Epoch 1/10\n",
      "60000/60000 [==============================] - 199s 3ms/step - loss: 0.2121 - acc: 0.9345 - val_loss: 0.0597 - val_acc: 0.9821\n",
      "Epoch 2/10\n",
      "60000/60000 [==============================] - 199s 3ms/step - loss: 0.0527 - acc: 0.9835 - val_loss: 0.0355 - val_acc: 0.9891\n",
      "Epoch 3/10\n",
      "60000/60000 [==============================] - 199s 3ms/step - loss: 0.0370 - acc: 0.9885 - val_loss: 0.0269 - val_acc: 0.9910\n",
      "Epoch 4/10\n",
      "60000/60000 [==============================] - 199s 3ms/step - loss: 0.0278 - acc: 0.9911 - val_loss: 0.0362 - val_acc: 0.9880\n",
      "Epoch 5/10\n",
      "60000/60000 [==============================] - 200s 3ms/step - loss: 0.0240 - acc: 0.9925 - val_loss: 0.0260 - val_acc: 0.9902\n",
      "Epoch 6/10\n",
      "60000/60000 [==============================] - 199s 3ms/step - loss: 0.0191 - acc: 0.9936 - val_loss: 0.0320 - val_acc: 0.9899\n",
      "Epoch 7/10\n",
      "60000/60000 [==============================] - 201s 3ms/step - loss: 0.0162 - acc: 0.9944 - val_loss: 0.0289 - val_acc: 0.9910\n",
      "Epoch 8/10\n",
      "60000/60000 [==============================] - 201s 3ms/step - loss: 0.0130 - acc: 0.9957 - val_loss: 0.0282 - val_acc: 0.9925\n",
      "Epoch 9/10\n",
      "60000/60000 [==============================] - 201s 3ms/step - loss: 0.0145 - acc: 0.9949 - val_loss: 0.0305 - val_acc: 0.9910\n",
      "Epoch 10/10\n",
      "60000/60000 [==============================] - 201s 3ms/step - loss: 0.0105 - acc: 0.9965 - val_loss: 0.0383 - val_acc: 0.9887\n"
     ]
    }
   ],
   "source": [
    "# Architecture 3: Kernel size (3,3)\n",
    "\n",
    "num_classes = 10\n",
    "batch_size = 128\n",
    "epochs = 10\n",
    "\n",
    "# Initilizing Sequential model\n",
    "model_3 = Sequential()\n",
    "\n",
    "# Block 1\n",
    "model_3.add(Conv2D(64, kernel_size = (3, 3), activation = 'relu', input_shape = input_shape, name = 'arch_3_block_1'))\n",
    "model_3.add(Conv2D(32, (3, 3), activation='relu'))\n",
    "model_3.add(MaxPooling2D(pool_size = (2, 2), strides = (2,2)))\n",
    "\n",
    "# Block 2\n",
    "model_3.add(Conv2D(64, (3, 3), activation='relu', padding = 'same', name='arch_3_block_2'))\n",
    "model_3.add(MaxPooling2D(pool_size = (2, 2), strides = (2,2)))\n",
    "\n",
    "# Block 3\n",
    "model_3.add(Conv2D(32, (3, 3), activation='relu', padding = 'same',  name = 'arch_3_block_3'))\n",
    "model_3.add(MaxPooling2D(pool_size=(2, 2), strides = (2,2)))\n",
    "\n",
    "# Flattening and dense\n",
    "model_3.add(Flatten())\n",
    "model_3.add(Dense(128, activation='relu'))\n",
    "model_3.add(Dense(num_classes, activation = 'softmax'))\n",
    "\n",
    "# Compiling\n",
    "model_3.compile(optimizer = 'adam', loss = 'categorical_crossentropy', metrics = ['accuracy'])\n",
    "  \n",
    "# Fit the model\n",
    "history_3 = model_3.fit(x_train, y_train, batch_size = batch_size, epochs = epochs, verbose = 1, validation_data = (x_test, y_test))"
   ]
  },
  {
   "cell_type": "code",
   "execution_count": 0,
   "metadata": {
    "colab": {
     "base_uri": "https://localhost:8080/",
     "height": 295
    },
    "colab_type": "code",
    "id": "ODj0A_IFnJ_I",
    "outputId": "36ec4ecd-5a1c-46e6-edb2-420d6a82a3a5"
   },
   "outputs": [
    {
     "data": {
      "image/png": "[encoded data removed]",
      "text/plain": [
       "<Figure size 432x288 with 1 Axes>"
      ]
     },
     "metadata": {
      "tags": []
     },
     "output_type": "display_data"
    }
   ],
   "source": [
    "v_l_3, t_l_3 = plotting(history_3, 'loss')"
   ]
  },
  {
   "cell_type": "code",
   "execution_count": 0,
   "metadata": {
    "colab": {
     "base_uri": "https://localhost:8080/",
     "height": 295
    },
    "colab_type": "code",
    "id": "Ma6VwjT5nZ5U",
    "outputId": "85534296-80cc-48ce-8234-da5e7f4a8c93"
   },
   "outputs": [
    {
     "data": {
      "image/png": "[encoded data removed]",
      "text/plain": [
       "<Figure size 432x288 with 1 Axes>"
      ]
     },
     "metadata": {
      "tags": []
     },
     "output_type": "display_data"
    }
   ],
   "source": [
    "v_a_3, t_a_3 = plotting(history_3, 'acc')"
   ]
  },
  {
   "cell_type": "code",
   "execution_count": 0,
   "metadata": {
    "colab": {
     "base_uri": "https://localhost:8080/",
     "height": 134
    },
    "colab_type": "code",
    "id": "XuCKBC6xnu9j",
    "outputId": "85fe63de-ca6e-4d27-c596-a207332cdce6"
   },
   "outputs": [
    {
     "name": "stdout",
     "output_type": "stream",
     "text": [
      "Validation loss: 0.026\n",
      "Train loss: 0.01 \n",
      "\n",
      "****************************** \n",
      "\n",
      "Validation accuracy: 0.992\n",
      "Train accuracy: 0.996\n"
     ]
    }
   ],
   "source": [
    "va_l_3 = np.round(min(v_l_3), 3)\n",
    "ta_l_3 = np.round(min(t_l_3),3)\n",
    "\n",
    "print(\"Validation loss:\", va_l_3)\n",
    "print(\"Train loss:\", ta_l_3, '\\n')\n",
    "\n",
    "print('*'*30, '\\n')\n",
    "\n",
    "va_a_3 = np.round(max(v_a_3),3)\n",
    "ta_a_3 = np.round(max(t_a_3),3)\n",
    "\n",
    "print(\"Validation accuracy:\", va_a_3)\n",
    "print(\"Train accuracy:\", ta_a_3)"
   ]
  },
  {
   "cell_type": "code",
   "execution_count": 0,
   "metadata": {
    "colab": {
     "base_uri": "https://localhost:8080/",
     "height": 440
    },
    "colab_type": "code",
    "id": "ibKYqxyLnxEb",
    "outputId": "1f0c3867-a402-4dba-d1f8-3f5fc951f6c1"
   },
   "outputs": [
    {
     "name": "stderr",
     "output_type": "stream",
     "text": [
      "W0716 17:02:05.768578 139946237990784 deprecation.py:506] From /usr/local/lib/python3.6/dist-packages/keras/backend/tensorflow_backend.py:3445: calling dropout (from tensorflow.python.ops.nn_ops) with keep_prob is deprecated and will be removed in a future version.\n",
      "Instructions for updating:\n",
      "Please use `rate` instead of `keep_prob`. Rate should be set to `rate = 1 - keep_prob`.\n"
     ]
    },
    {
     "name": "stdout",
     "output_type": "stream",
     "text": [
      "Train on 60000 samples, validate on 10000 samples\n",
      "Epoch 1/10\n",
      "60000/60000 [==============================] - 354s 6ms/step - loss: 0.5048 - acc: 0.8344 - val_loss: 0.0661 - val_acc: 0.9794\n",
      "Epoch 2/10\n",
      "60000/60000 [==============================] - 357s 6ms/step - loss: 0.1258 - acc: 0.9646 - val_loss: 0.0396 - val_acc: 0.9878\n",
      "Epoch 3/10\n",
      "60000/60000 [==============================] - 356s 6ms/step - loss: 0.0898 - acc: 0.9755 - val_loss: 0.0308 - val_acc: 0.9903\n",
      "Epoch 4/10\n",
      "60000/60000 [==============================] - 355s 6ms/step - loss: 0.0747 - acc: 0.9802 - val_loss: 0.0325 - val_acc: 0.9902\n",
      "Epoch 5/10\n",
      "60000/60000 [==============================] - 356s 6ms/step - loss: 0.0670 - acc: 0.9817 - val_loss: 0.0254 - val_acc: 0.9922\n",
      "Epoch 6/10\n",
      "60000/60000 [==============================] - 355s 6ms/step - loss: 0.0613 - acc: 0.9823 - val_loss: 0.0258 - val_acc: 0.9923\n",
      "Epoch 7/10\n",
      "60000/60000 [==============================] - 354s 6ms/step - loss: 0.0551 - acc: 0.9852 - val_loss: 0.0244 - val_acc: 0.9931\n",
      "Epoch 8/10\n",
      "60000/60000 [==============================] - 354s 6ms/step - loss: 0.0507 - acc: 0.9866 - val_loss: 0.0226 - val_acc: 0.9925\n",
      "Epoch 9/10\n",
      "60000/60000 [==============================] - 357s 6ms/step - loss: 0.0466 - acc: 0.9875 - val_loss: 0.0233 - val_acc: 0.9942\n",
      "Epoch 10/10\n",
      "60000/60000 [==============================] - 354s 6ms/step - loss: 0.0434 - acc: 0.9884 - val_loss: 0.0278 - val_acc: 0.9928\n"
     ]
    }
   ],
   "source": [
    "# Architecture 5: Kernel size (5,5)\n",
    "\n",
    "num_classes = 10\n",
    "batch_size = 128\n",
    "epochs = 10\n",
    "\n",
    "# Initilizing Sequential model\n",
    "model_5 = Sequential()\n",
    "\n",
    "# Block 1\n",
    "model_5.add(Conv2D(64, kernel_size = (5, 5), activation = 'relu', input_shape = input_shape))\n",
    "model_5.add(Conv2D(32, (5, 5), activation='relu'))\n",
    "model_5.add(MaxPooling2D(pool_size = (3, 3), strides = (2,2)))\n",
    "model_5.add(Dropout(0.25))\n",
    "\n",
    "# Block 2\n",
    "model_5.add(Conv2D(64, (5, 5), activation='relu', padding = 'same'))\n",
    "model_5.add(MaxPooling2D(pool_size = (3, 3), strides = (2,2)))\n",
    "model_5.add(Dropout(0.25))\n",
    "\n",
    "# Block 3\n",
    "model_5.add(Conv2D(32, (5, 5), activation='relu', padding = 'same'))\n",
    "model_5.add(MaxPooling2D(pool_size=(3, 3), strides = (2,2)))\n",
    "model_5.add(Dropout(0.25))\n",
    "\n",
    "# Flattening and dense\n",
    "model_5.add(Flatten())\n",
    "model_5.add(Dense(128, activation='relu'))\n",
    "model_5.add(Dropout(0.5))\n",
    "model_5.add(Dense(num_classes, activation = 'softmax'))\n",
    "\n",
    "# Compiling\n",
    "model_5.compile(optimizer = 'adam', loss = 'categorical_crossentropy', metrics = ['accuracy'])\n",
    "  \n",
    "# Fit the model\n",
    "history_5 = model_5.fit(x_train, y_train, batch_size = batch_size, epochs = epochs, verbose = 1, validation_data = (x_test, y_test))"
   ]
  },
  {
   "cell_type": "code",
   "execution_count": 0,
   "metadata": {
    "colab": {
     "base_uri": "https://localhost:8080/",
     "height": 295
    },
    "colab_type": "code",
    "id": "u2z7ibfLn0K8",
    "outputId": "1f09134a-0ebc-4b89-8d5f-957443402fc1"
   },
   "outputs": [
    {
     "data": {
      "image/png": "[encoded data removed]",
      "text/plain": [
       "<Figure size 432x288 with 1 Axes>"
      ]
     },
     "metadata": {
      "tags": []
     },
     "output_type": "display_data"
    }
   ],
   "source": [
    "v_l_5, t_l_5 = plotting(history_5, 'loss')"
   ]
  },
  {
   "cell_type": "code",
   "execution_count": 0,
   "metadata": {
    "colab": {
     "base_uri": "https://localhost:8080/",
     "height": 295
    },
    "colab_type": "code",
    "id": "fJNfW73en4eq",
    "outputId": "7511c675-09a0-4c26-afc7-19b781d2ac05"
   },
   "outputs": [
    {
     "data": {
      "image/png": "[encoded data removed]",
      "text/plain": [
       "<Figure size 432x288 with 1 Axes>"
      ]
     },
     "metadata": {
      "tags": []
     },
     "output_type": "display_data"
    }
   ],
   "source": [
    "v_a_5, t_a_5 = plotting(history_5, 'acc')"
   ]
  },
  {
   "cell_type": "code",
   "execution_count": 0,
   "metadata": {
    "colab": {
     "base_uri": "https://localhost:8080/",
     "height": 134
    },
    "colab_type": "code",
    "id": "7Kxkq0p_n5BU",
    "outputId": "50862377-ef45-4f05-aab1-1f0a69c0a593"
   },
   "outputs": [
    {
     "name": "stdout",
     "output_type": "stream",
     "text": [
      "Validation loss: 0.023\n",
      "Train loss: 0.043 \n",
      "\n",
      "****************************** \n",
      "\n",
      "Validation accuracy: 0.994\n",
      "Train accuracy: 0.988\n"
     ]
    }
   ],
   "source": [
    "va_l_5 = np.round(min(v_l_5), 3)\n",
    "ta_l_5 = np.round(min(t_l_5),3)\n",
    "\n",
    "print(\"Validation loss:\", va_l_5)\n",
    "print(\"Train loss:\", ta_l_5, '\\n')\n",
    "\n",
    "print('*'*30, '\\n')\n",
    "\n",
    "va_a_5 = np.round(max(v_a_5),3)\n",
    "ta_a_5 = np.round(max(t_a_5),3)\n",
    "\n",
    "print(\"Validation accuracy:\", va_a_5)\n",
    "print(\"Train accuracy:\", ta_a_5)"
   ]
  },
  {
   "cell_type": "code",
   "execution_count": 14,
   "metadata": {
    "colab": {
     "base_uri": "https://localhost:8080/",
     "height": 776
    },
    "colab_type": "code",
    "id": "ena6tsxKn7oP",
    "outputId": "afcaa035-ed2b-4317-ded5-5ade678bd505"
   },
   "outputs": [
    {
     "name": "stderr",
     "output_type": "stream",
     "text": [
      "WARNING: Logging before flag parsing goes to stderr.\n",
      "W0717 06:20:15.154760 140379344217984 deprecation_wrapper.py:119] From /usr/local/lib/python3.6/dist-packages/keras/backend/tensorflow_backend.py:74: The name tf.get_default_graph is deprecated. Please use tf.compat.v1.get_default_graph instead.\n",
      "\n",
      "W0717 06:20:15.213367 140379344217984 deprecation_wrapper.py:119] From /usr/local/lib/python3.6/dist-packages/keras/backend/tensorflow_backend.py:517: The name tf.placeholder is deprecated. Please use tf.compat.v1.placeholder instead.\n",
      "\n",
      "W0717 06:20:15.222794 140379344217984 deprecation_wrapper.py:119] From /usr/local/lib/python3.6/dist-packages/keras/backend/tensorflow_backend.py:4138: The name tf.random_uniform is deprecated. Please use tf.random.uniform instead.\n",
      "\n",
      "W0717 06:20:15.303605 140379344217984 deprecation_wrapper.py:119] From /usr/local/lib/python3.6/dist-packages/keras/backend/tensorflow_backend.py:174: The name tf.get_default_session is deprecated. Please use tf.compat.v1.get_default_session instead.\n",
      "\n",
      "W0717 06:20:15.305129 140379344217984 deprecation_wrapper.py:119] From /usr/local/lib/python3.6/dist-packages/keras/backend/tensorflow_backend.py:181: The name tf.ConfigProto is deprecated. Please use tf.compat.v1.ConfigProto instead.\n",
      "\n",
      "W0717 06:20:15.592389 140379344217984 deprecation_wrapper.py:119] From /usr/local/lib/python3.6/dist-packages/keras/backend/tensorflow_backend.py:1834: The name tf.nn.fused_batch_norm is deprecated. Please use tf.compat.v1.nn.fused_batch_norm instead.\n",
      "\n",
      "W0717 06:20:15.681822 140379344217984 deprecation_wrapper.py:119] From /usr/local/lib/python3.6/dist-packages/keras/backend/tensorflow_backend.py:3976: The name tf.nn.max_pool is deprecated. Please use tf.nn.max_pool2d instead.\n",
      "\n",
      "W0717 06:20:15.695425 140379344217984 deprecation.py:506] From /usr/local/lib/python3.6/dist-packages/keras/backend/tensorflow_backend.py:3445: calling dropout (from tensorflow.python.ops.nn_ops) with keep_prob is deprecated and will be removed in a future version.\n",
      "Instructions for updating:\n",
      "Please use `rate` instead of `keep_prob`. Rate should be set to `rate = 1 - keep_prob`.\n",
      "W0717 06:20:15.971125 140379344217984 deprecation_wrapper.py:119] From /usr/local/lib/python3.6/dist-packages/keras/optimizers.py:790: The name tf.train.Optimizer is deprecated. Please use tf.compat.v1.train.Optimizer instead.\n",
      "\n",
      "W0717 06:20:16.107301 140379344217984 deprecation.py:323] From /usr/local/lib/python3.6/dist-packages/tensorflow/python/ops/math_grad.py:1250: add_dispatch_support.<locals>.wrapper (from tensorflow.python.ops.array_ops) is deprecated and will be removed in a future version.\n",
      "Instructions for updating:\n",
      "Use tf.where in 2.0, which has the same broadcast rule as np.where\n"
     ]
    },
    {
     "name": "stdout",
     "output_type": "stream",
     "text": [
      "Train on 60000 samples, validate on 10000 samples\n",
      "Epoch 1/10\n",
      "60000/60000 [==============================] - 409s 7ms/step - loss: 0.4876 - acc: 0.8522 - val_loss: 0.0877 - val_acc: 0.9731\n",
      "Epoch 2/10\n",
      "60000/60000 [==============================] - 407s 7ms/step - loss: 0.1097 - acc: 0.9701 - val_loss: 0.0350 - val_acc: 0.9892\n",
      "Epoch 3/10\n",
      "60000/60000 [==============================] - 407s 7ms/step - loss: 0.0751 - acc: 0.9797 - val_loss: 0.0600 - val_acc: 0.9816\n",
      "Epoch 4/10\n",
      "60000/60000 [==============================] - 407s 7ms/step - loss: 0.0659 - acc: 0.9822 - val_loss: 0.0334 - val_acc: 0.9908\n",
      "Epoch 5/10\n",
      "60000/60000 [==============================] - 408s 7ms/step - loss: 0.0545 - acc: 0.9852 - val_loss: 0.0386 - val_acc: 0.9892\n",
      "Epoch 6/10\n",
      "60000/60000 [==============================] - 408s 7ms/step - loss: 0.0476 - acc: 0.9868 - val_loss: 0.0288 - val_acc: 0.9911\n",
      "Epoch 7/10\n",
      "60000/60000 [==============================] - 408s 7ms/step - loss: 0.0447 - acc: 0.9878 - val_loss: 0.0276 - val_acc: 0.9926\n",
      "Epoch 8/10\n",
      "60000/60000 [==============================] - 408s 7ms/step - loss: 0.0443 - acc: 0.9874 - val_loss: 0.0320 - val_acc: 0.9912\n",
      "Epoch 9/10\n",
      "60000/60000 [==============================] - 408s 7ms/step - loss: 0.0372 - acc: 0.9895 - val_loss: 0.0308 - val_acc: 0.9915\n",
      "Epoch 10/10\n",
      "60000/60000 [==============================] - 408s 7ms/step - loss: 0.0385 - acc: 0.9897 - val_loss: 0.0243 - val_acc: 0.9932\n"
     ]
    }
   ],
   "source": [
    "# Architecture 9: Kernel size (9,9)\n",
    "\n",
    "num_classes = 10\n",
    "batch_size = 128\n",
    "epochs = 10\n",
    "\n",
    "# Initilizing Sequential model\n",
    "model_9 = Sequential()\n",
    "\n",
    "# Block 1\n",
    "model_9.add(Conv2D(64, kernel_size = (9, 9), activation = 'relu', input_shape = input_shape))\n",
    "model_9.add(Conv2D(32, (9, 9), activation='relu'))\n",
    "model_9.add(BatchNormalization())\n",
    "model_9.add(MaxPooling2D(pool_size = (4, 4), strides = (2,2)))\n",
    "model_9.add(Dropout(0.5))\n",
    "\n",
    "# Block 2\n",
    "model_9.add(Conv2D(64, (9, 9), activation='relu', padding = 'same'))\n",
    "model_9.add(BatchNormalization())\n",
    "model_9.add(MaxPooling2D(pool_size = (4, 4), strides = (2,2)))\n",
    "model_9.add(Dropout(0.5))\n",
    "\n",
    "# Flattening and dense\n",
    "model_9.add(Flatten())\n",
    "model_9.add(Dense(128, activation='relu'))\n",
    "model_9.add(BatchNormalization())\n",
    "model_9.add(Dropout(0.5))\n",
    "model_9.add(Dense(num_classes, activation = 'softmax'))\n",
    "\n",
    "# Compiling\n",
    "model_9.compile(optimizer = 'adam', loss = 'categorical_crossentropy', metrics = ['accuracy'])\n",
    "  \n",
    "# Fit the model\n",
    "history_9 = model_9.fit(x_train, y_train, batch_size = batch_size, epochs = epochs, verbose = 1, validation_data = (x_test, y_test))"
   ]
  },
  {
   "cell_type": "code",
   "execution_count": 15,
   "metadata": {
    "colab": {
     "base_uri": "https://localhost:8080/",
     "height": 295
    },
    "colab_type": "code",
    "id": "AjUcwIcvn_fz",
    "outputId": "b09e828d-a8bf-42c6-cfbb-13aa3a85c11c"
   },
   "outputs": [
    {
     "data": {
      "image/png": "[encoded data removed]",
      "text/plain": [
       "<Figure size 432x288 with 1 Axes>"
      ]
     },
     "metadata": {
      "tags": []
     },
     "output_type": "display_data"
    }
   ],
   "source": [
    "v_l_9, t_l_9 = plotting(history_9, 'loss')"
   ]
  },
  {
   "cell_type": "code",
   "execution_count": 16,
   "metadata": {
    "colab": {
     "base_uri": "https://localhost:8080/",
     "height": 295
    },
    "colab_type": "code",
    "id": "GLJxzowuoCR-",
    "outputId": "198de46a-c72f-40ab-9638-a87957cde44f"
   },
   "outputs": [
    {
     "data": {
      "image/png": "[encoded data removed]",
      "text/plain": [
       "<Figure size 432x288 with 1 Axes>"
      ]
     },
     "metadata": {
      "tags": []
     },
     "output_type": "display_data"
    }
   ],
   "source": [
    "v_a_9, t_a_9 = plotting(history_9, 'acc')"
   ]
  },
  {
   "cell_type": "code",
   "execution_count": 17,
   "metadata": {
    "colab": {
     "base_uri": "https://localhost:8080/",
     "height": 134
    },
    "colab_type": "code",
    "id": "ZfoG2ZeJoD-9",
    "outputId": "ed2acafa-28b8-4dfa-f082-612cb733afdc"
   },
   "outputs": [
    {
     "name": "stdout",
     "output_type": "stream",
     "text": [
      "Validation loss: 0.024\n",
      "Train loss: 0.037 \n",
      "\n",
      "****************************** \n",
      "\n",
      "Validation accuracy: 0.993\n",
      "Train accuracy: 0.99\n"
     ]
    }
   ],
   "source": [
    "va_l_9 = np.round(min(v_l_9), 3)\n",
    "ta_l_9 = np.round(min(t_l_9),3)\n",
    "\n",
    "print(\"Validation loss:\", va_l_9)\n",
    "print(\"Train loss:\", ta_l_9, '\\n')\n",
    "\n",
    "print('*'*30, '\\n')\n",
    "\n",
    "va_a_9 = np.round(max(v_a_9),3)\n",
    "ta_a_9 = np.round(max(t_a_9),3)\n",
    "\n",
    "print(\"Validation accuracy:\", va_a_9)\n",
    "print(\"Train accuracy:\", ta_a_9)"
   ]
  },
  {
   "cell_type": "code",
   "execution_count": 24,
   "metadata": {
    "colab": {
     "base_uri": "https://localhost:8080/",
     "height": 386
    },
    "colab_type": "code",
    "id": "Ux-lLSZGoGQa",
    "outputId": "96389e0d-3ec6-4e7a-b6f3-cfb92b8cfe1b"
   },
   "outputs": [
    {
     "name": "stdout",
     "output_type": "stream",
     "text": [
      "\n",
      "\n",
      "\n",
      "+------+-------------+-------------+---------+-----------+---------------+\n",
      "| S.No | Kernel Size | Max Pooling | Strides | Test Loss | Test Accuracy |\n",
      "+------+-------------+-------------+---------+-----------+---------------+\n",
      "|  1   |    (3,3)    |    (2,2)    |  (2,2)  |   0.026   |     0.992     |\n",
      "+------+-------------+-------------+---------+-----------+---------------+ \n",
      "\n",
      "\n",
      "+------+-------------+-------------+---------+----------+-----------+---------------+\n",
      "| S.No | Kernel Size | Max Pooling | Strides | Drop Out | Test Loss | Test Accuracy |\n",
      "+------+-------------+-------------+---------+----------+-----------+---------------+\n",
      "|  1   |    (5,5)    |    (3,3)    |  (2,2)  |   0.5    |   0.023   |     0.994     |\n",
      "+------+-------------+-------------+---------+----------+-----------+---------------+ \n",
      "\n",
      "\n",
      "+------+-------------+-------------+---------+----------+---------------------+-----------+---------------+\n",
      "| S.No | Kernel Size | Max Pooling | Strides | Drop Out | Batch Normalization | Test Loss | Test Accuracy |\n",
      "+------+-------------+-------------+---------+----------+---------------------+-----------+---------------+\n",
      "|  1   |    (9,9)    |    (4,4)    |  (2,2)  |   0.5    |       Applied       |   0.024   |     0.993     |\n",
      "+------+-------------+-------------+---------+----------+---------------------+-----------+---------------+\n"
     ]
    }
   ],
   "source": [
    "from prettytable import PrettyTable\n",
    "\n",
    "print('\\n\\n')\n",
    "a = PrettyTable()\n",
    "a.field_names = ['S.No', 'Kernel Size', 'Max Pooling', 'Strides', 'Test Loss', 'Test Accuracy']\n",
    "a.add_row([1, '(3,3)', '(2,2)', '(2,2)', '0.026','0.992'])\n",
    "print(a.get_string(title = \"Architecture: 3,    Activation: relu,    Optimizer: adam\"), '\\n\\n')\n",
    "\n",
    "\n",
    "b = PrettyTable()\n",
    "b.field_names = ['S.No', 'Kernel Size', 'Max Pooling', 'Strides', 'Drop Out', 'Test Loss', 'Test Accuracy']\n",
    "b.add_row([1, '(5,5)', '(3,3)', '(2,2)', 0.5, '0.023', '0.994'])\n",
    "print(b.get_string(title = \"Architecture 5,  Activation: relu,  Optimizer: adam\"), '\\n\\n')\n",
    "\n",
    "\n",
    "c = PrettyTable()\n",
    "c.field_names = ['S.No', 'Kernel Size', 'Max Pooling', 'Strides', 'Drop Out', 'Batch Normalization', 'Test Loss', 'Test Accuracy']\n",
    "c.add_row([1, '(9,9)', '(4,4)', '(2,2)', 0.5, 'Applied', '0.024', '0.993'])\n",
    "print(c.get_string(title = \"Architecture 9,    Activation: relu,    Optimizer: adam\"))"
   ]
  },
  {
   "cell_type": "markdown",
   "metadata": {
    "colab_type": "text",
    "id": "7qWJrnKI4EEs"
   },
   "source": []
  },
  {
   "cell_type": "code",
   "execution_count": 0,
   "metadata": {
    "colab": {},
    "colab_type": "code",
    "id": "Em4-3xr1oKF7"
   },
   "outputs": [],
   "source": []
  }
 ],
 "metadata": {
  "accelerator": "TPU",
  "colab": {
   "name": "cnn",
   "provenance": [],
   "version": "0.3.2"
  },
  "kernelspec": {
   "display_name": "Python 3",
   "language": "python",
   "name": "python3"
  },
  "language_info": {
   "codemirror_mode": {
    "name": "ipython",
    "version": 3
   },
   "file_extension": ".py",
   "mimetype": "text/x-python",
   "name": "python",
   "nbconvert_exporter": "python",
   "pygments_lexer": "ipython3",
   "version": "3.6.5"
  }
 },
 "nbformat": 4,
 "nbformat_minor": 1
}
